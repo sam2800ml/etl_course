{
 "cells": [
  {
   "cell_type": "code",
   "execution_count": 44,
   "metadata": {},
   "outputs": [],
   "source": [
    "import requests\n",
    "import pandas as pd"
   ]
  },
  {
   "cell_type": "code",
   "execution_count": 11,
   "metadata": {},
   "outputs": [],
   "source": [
    "url_regions = \"https://api-colombia.com/api/v1/Region\"\n",
    "\n",
    "def loading_regions(url):\n",
    "    try:\n",
    "        information = requests.get(url)\n",
    "        information = information.json()\n",
    "        regions = [region['name'] for region in information]\n",
    "    except:\n",
    "        print(\"problems loading the url\")\n",
    "    return regions"
   ]
  },
  {
   "cell_type": "code",
   "execution_count": 45,
   "metadata": {},
   "outputs": [
    {
     "name": "stdout",
     "output_type": "stream",
     "text": [
      "['Caribe', 'Pacífico', 'Orinoquía', 'Amazonía', 'Andina']\n"
     ]
    }
   ],
   "source": [
    "regions = loading_regions(url_regions)\n",
    "regions.pop()\n",
    "print(regions)"
   ]
  },
  {
   "cell_type": "code",
   "execution_count": 46,
   "metadata": {},
   "outputs": [],
   "source": [
    "\n",
    "def loading_departaments(region):\n",
    "    url_departament = f\"https://api-colombia.com/api/v1/Department/search/{region}\"\n",
    "    try:\n",
    "        data = requests.get(url_departament)\n",
    "        data = data.json()\n",
    "        departaments = [departament[\"name\"] for departament  in data]\n",
    "        print(departaments)\n",
    "    except requests.exceptions.RequestException as e:\n",
    "        return f\"Error: {e}\"\n",
    "    return departaments\n",
    "\n",
    "\n",
    "        \n",
    "\n",
    "    "
   ]
  },
  {
   "cell_type": "code",
   "execution_count": 71,
   "metadata": {},
   "outputs": [
    {
     "name": "stdout",
     "output_type": "stream",
     "text": [
      "['Cesar', 'Chocó', 'Córdoba', 'La Guajira', 'Magdalena', 'Antioquia', 'Atlántico', 'Bolívar', 'San Andrés y Providencia', 'Sucre']\n",
      "['Cauca', 'Chocó', 'Nariño', 'Valle del Cauca']\n",
      "['Casanare', 'Arauca', 'Vichada', 'Meta']\n",
      "['Guaviare', 'Caquetá', 'Guainía', 'Amazonas', 'Vaupés', 'Vichada']\n",
      "['Cauca', 'Cesar', 'Chocó', 'Cundinamarca', 'Nariño', 'Antioquia', 'Quindío', 'Risaralda', 'Santander', 'Tolima', 'Valle del Cauca', 'Caldas', 'Boyacá', 'Huila']\n"
     ]
    },
    {
     "data": {
      "text/plain": [
       "{'Caribe': ['Cauca',\n",
       "  'Cesar',\n",
       "  'Chocó',\n",
       "  'Cundinamarca',\n",
       "  'Nariño',\n",
       "  'Antioquia',\n",
       "  'Quindío',\n",
       "  'Risaralda',\n",
       "  'Santander',\n",
       "  'Tolima',\n",
       "  'Valle del Cauca',\n",
       "  'Caldas',\n",
       "  'Boyacá',\n",
       "  'Huila'],\n",
       " 'Pacífico': ['Cauca',\n",
       "  'Cesar',\n",
       "  'Chocó',\n",
       "  'Cundinamarca',\n",
       "  'Nariño',\n",
       "  'Antioquia',\n",
       "  'Quindío',\n",
       "  'Risaralda',\n",
       "  'Santander',\n",
       "  'Tolima',\n",
       "  'Valle del Cauca',\n",
       "  'Caldas',\n",
       "  'Boyacá',\n",
       "  'Huila'],\n",
       " 'Orinoquía': ['Cauca',\n",
       "  'Cesar',\n",
       "  'Chocó',\n",
       "  'Cundinamarca',\n",
       "  'Nariño',\n",
       "  'Antioquia',\n",
       "  'Quindío',\n",
       "  'Risaralda',\n",
       "  'Santander',\n",
       "  'Tolima',\n",
       "  'Valle del Cauca',\n",
       "  'Caldas',\n",
       "  'Boyacá',\n",
       "  'Huila'],\n",
       " 'Amazonía': ['Cauca',\n",
       "  'Cesar',\n",
       "  'Chocó',\n",
       "  'Cundinamarca',\n",
       "  'Nariño',\n",
       "  'Antioquia',\n",
       "  'Quindío',\n",
       "  'Risaralda',\n",
       "  'Santander',\n",
       "  'Tolima',\n",
       "  'Valle del Cauca',\n",
       "  'Caldas',\n",
       "  'Boyacá',\n",
       "  'Huila'],\n",
       " 'Andina': ['Cauca',\n",
       "  'Cesar',\n",
       "  'Chocó',\n",
       "  'Cundinamarca',\n",
       "  'Nariño',\n",
       "  'Antioquia',\n",
       "  'Quindío',\n",
       "  'Risaralda',\n",
       "  'Santander',\n",
       "  'Tolima',\n",
       "  'Valle del Cauca',\n",
       "  'Caldas',\n",
       "  'Boyacá',\n",
       "  'Huila']}"
      ]
     },
     "execution_count": 71,
     "metadata": {},
     "output_type": "execute_result"
    }
   ],
   "source": [
    "df = []\n",
    "for i,region in enumerate(regions):\n",
    "    value = loading_departaments(region)\n",
    "    df.append(value)\n",
    "dataset = {}\n",
    "for region in regions:\n",
    "    for department  in df:\n",
    "        dataset.update({region:department})\n",
    "dataset"
   ]
  },
  {
   "cell_type": "markdown",
   "metadata": {},
   "source": [
    "columnas objeticos del dataset"
   ]
  }
 ],
 "metadata": {
  "kernelspec": {
   "display_name": "venv",
   "language": "python",
   "name": "python3"
  },
  "language_info": {
   "codemirror_mode": {
    "name": "ipython",
    "version": 3
   },
   "file_extension": ".py",
   "mimetype": "text/x-python",
   "name": "python",
   "nbconvert_exporter": "python",
   "pygments_lexer": "ipython3",
   "version": "3.12.0"
  }
 },
 "nbformat": 4,
 "nbformat_minor": 2
}
