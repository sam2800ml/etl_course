{
 "cells": [
  {
   "cell_type": "code",
   "execution_count": 1,
   "metadata": {},
   "outputs": [],
   "source": [
    "import yaml\n",
    "import psycopg2\n",
    "from psycopg2 import sql\n",
    "from sqlalchemy import create_engine, text\n",
    "import pandas as pd"
   ]
  },
  {
   "cell_type": "code",
   "execution_count": 8,
   "metadata": {},
   "outputs": [],
   "source": [
    "def load_config(file_path=\"config.yaml\"):\n",
    "    with open(file_path, \"r\") as file: # leer el documento del yaml\n",
    "        return yaml.safe_load(file) \n",
    "        \n",
    "    "
   ]
  },
  {
   "cell_type": "code",
   "execution_count": 12,
   "metadata": {},
   "outputs": [
    {
     "name": "stdout",
     "output_type": "stream",
     "text": [
      "{'database': {'user': 'santiagoaristizabal', 'password': 'new_password', 'host': 'localhost', 'port': 5432, 'name': 'etl_db'}}\n"
     ]
    }
   ],
   "source": [
    "config = load_config() # cargar los datos del yaml\n",
    "db_config = config[\"database\"]\n",
    "\n",
    "# Load credentials\n",
    "db_user = db_config[\"user\"]\n",
    "db_password = db_config[\"password\"]\n",
    "db_host = db_config[\"host\"]\n",
    "db_port = db_config[\"port\"]\n",
    "db_name = db_config[\"name\"]\n",
    "\n",
    "# DB connection\n",
    "conn = psycopg2.connect( # conexion con la base de datos postgres\n",
    "    dbname=\"postgres\", \n",
    "    user=db_user,\n",
    "    password=db_password,\n",
    "    host=db_host,\n",
    "    port=db_port\n",
    ")\n",
    "conn.autocommit = True"
   ]
  },
  {
   "cell_type": "code",
   "execution_count": 13,
   "metadata": {},
   "outputs": [
    {
     "name": "stdout",
     "output_type": "stream",
     "text": [
      "Base de datos 'etl_db' creada exitosamente.\n"
     ]
    }
   ],
   "source": [
    "db_name = \"etl_db\" # nombre de la base de datos\n",
    "try:\n",
    "    with conn.cursor() as cur:\n",
    "        cur.execute(sql.SQL(\"CREATE DATABASE {}\").format(sql.Identifier(db_name))) # creacion de la base de datos\n",
    "        print(f\"Base de datos '{db_name}' creada exitosamente.\")\n",
    "except psycopg2.errors.DuplicateDatabase:\n",
    "    print(f\"La base de datos '{db_name}' ya existe.\")\n",
    "finally:\n",
    "    conn.close()"
   ]
  },
  {
   "cell_type": "code",
   "execution_count": 14,
   "metadata": {},
   "outputs": [
    {
     "name": "stdout",
     "output_type": "stream",
     "text": [
      "Tabla 'tabla_etl' creada exitosamente en PostgreSQL.\n"
     ]
    }
   ],
   "source": [
    "engine = create_engine(f\"postgresql://{db_user}:{db_password}@{db_host}:{db_port}/{db_name}\") # carga de la base de datos completa\n",
    "\n",
    "with engine.connect() as conn:\n",
    "    conn.execute(text(\"\"\"\n",
    "        CREATE TABLE IF NOT EXISTS tabla_etl (\n",
    "            id SERIAL PRIMARY KEY,\n",
    "            nombre VARCHAR(100),\n",
    "            edad INT,\n",
    "            email VARCHAR(100),\n",
    "            fecha_registro TIMESTAMP DEFAULT CURRENT_TIMESTAMP\n",
    "        );\n",
    "    \"\"\"))\n",
    "    conn.commit()  # Asegúrate de confirmar los cambios\n",
    "    print(\"Tabla 'tabla_etl' creada exitosamente en PostgreSQL.\")"
   ]
  },
  {
   "cell_type": "code",
   "execution_count": 15,
   "metadata": {},
   "outputs": [
    {
     "name": "stdout",
     "output_type": "stream",
     "text": [
      "Datos insertados exitosamente en 'tabla_etl'.\n"
     ]
    }
   ],
   "source": [
    "from sqlalchemy import text\n",
    "\n",
    "# Insertar datos en la tabla\n",
    "with engine.connect() as conn:\n",
    "    conn.execute(text(\"\"\"\n",
    "        INSERT INTO tabla_etl (nombre, edad, email)\n",
    "        VALUES \n",
    "            ('Juan Pérez', 28, 'juan@example.com'),\n",
    "            ('María García', 34, 'maria@example.com'),\n",
    "            ('Carlos López', 25, 'carlos@example.com');\n",
    "    \"\"\"))\n",
    "    conn.commit()  # Confirmar los cambios\n",
    "    print(\"Datos insertados exitosamente en 'tabla_etl'.\")"
   ]
  },
  {
   "cell_type": "code",
   "execution_count": 16,
   "metadata": {},
   "outputs": [
    {
     "name": "stdout",
     "output_type": "stream",
     "text": [
      "Datos en 'tabla_etl':\n",
      "(1, 'Juan Pérez', 28, 'juan@example.com', datetime.datetime(2025, 2, 20, 19, 33, 8, 790953))\n",
      "(2, 'María García', 34, 'maria@example.com', datetime.datetime(2025, 2, 20, 19, 33, 8, 790953))\n",
      "(3, 'Carlos López', 25, 'carlos@example.com', datetime.datetime(2025, 2, 20, 19, 33, 8, 790953))\n"
     ]
    }
   ],
   "source": [
    "# Leer datos de la tabla\n",
    "with engine.connect() as conn:\n",
    "    result = conn.execute(text(\"SELECT * FROM tabla_etl;\"))\n",
    "    rows = result.fetchall()\n",
    "\n",
    "# Mostrar los resultados\n",
    "print(\"Datos en 'tabla_etl':\")\n",
    "for row in rows:\n",
    "    print(row)"
   ]
  },
  {
   "cell_type": "code",
   "execution_count": 17,
   "metadata": {},
   "outputs": [],
   "source": [
    "with engine.connect() as conn:\n",
    "    df = pd.read_sql(\"SELECT * FROM tabla_etl\", conn)"
   ]
  },
  {
   "cell_type": "code",
   "execution_count": 18,
   "metadata": {},
   "outputs": [
    {
     "data": {
      "text/html": [
       "<div>\n",
       "<style scoped>\n",
       "    .dataframe tbody tr th:only-of-type {\n",
       "        vertical-align: middle;\n",
       "    }\n",
       "\n",
       "    .dataframe tbody tr th {\n",
       "        vertical-align: top;\n",
       "    }\n",
       "\n",
       "    .dataframe thead th {\n",
       "        text-align: right;\n",
       "    }\n",
       "</style>\n",
       "<table border=\"1\" class=\"dataframe\">\n",
       "  <thead>\n",
       "    <tr style=\"text-align: right;\">\n",
       "      <th></th>\n",
       "      <th>id</th>\n",
       "      <th>nombre</th>\n",
       "      <th>edad</th>\n",
       "      <th>email</th>\n",
       "      <th>fecha_registro</th>\n",
       "    </tr>\n",
       "  </thead>\n",
       "  <tbody>\n",
       "    <tr>\n",
       "      <th>0</th>\n",
       "      <td>1</td>\n",
       "      <td>Juan Pérez</td>\n",
       "      <td>28</td>\n",
       "      <td>juan@example.com</td>\n",
       "      <td>2025-02-20 19:33:08.790953</td>\n",
       "    </tr>\n",
       "    <tr>\n",
       "      <th>1</th>\n",
       "      <td>2</td>\n",
       "      <td>María García</td>\n",
       "      <td>34</td>\n",
       "      <td>maria@example.com</td>\n",
       "      <td>2025-02-20 19:33:08.790953</td>\n",
       "    </tr>\n",
       "    <tr>\n",
       "      <th>2</th>\n",
       "      <td>3</td>\n",
       "      <td>Carlos López</td>\n",
       "      <td>25</td>\n",
       "      <td>carlos@example.com</td>\n",
       "      <td>2025-02-20 19:33:08.790953</td>\n",
       "    </tr>\n",
       "  </tbody>\n",
       "</table>\n",
       "</div>"
      ],
      "text/plain": [
       "   id        nombre  edad               email             fecha_registro\n",
       "0   1    Juan Pérez    28    juan@example.com 2025-02-20 19:33:08.790953\n",
       "1   2  María García    34   maria@example.com 2025-02-20 19:33:08.790953\n",
       "2   3  Carlos López    25  carlos@example.com 2025-02-20 19:33:08.790953"
      ]
     },
     "execution_count": 18,
     "metadata": {},
     "output_type": "execute_result"
    }
   ],
   "source": [
    "df\n"
   ]
  },
  {
   "cell_type": "code",
   "execution_count": 19,
   "metadata": {},
   "outputs": [
    {
     "data": {
      "text/html": [
       "<div>\n",
       "<style scoped>\n",
       "    .dataframe tbody tr th:only-of-type {\n",
       "        vertical-align: middle;\n",
       "    }\n",
       "\n",
       "    .dataframe tbody tr th {\n",
       "        vertical-align: top;\n",
       "    }\n",
       "\n",
       "    .dataframe thead th {\n",
       "        text-align: right;\n",
       "    }\n",
       "</style>\n",
       "<table border=\"1\" class=\"dataframe\">\n",
       "  <thead>\n",
       "    <tr style=\"text-align: right;\">\n",
       "      <th></th>\n",
       "      <th>id</th>\n",
       "      <th>nombre</th>\n",
       "      <th>edad</th>\n",
       "      <th>email</th>\n",
       "      <th>fecha_registro</th>\n",
       "      <th>age_category</th>\n",
       "    </tr>\n",
       "  </thead>\n",
       "  <tbody>\n",
       "    <tr>\n",
       "      <th>0</th>\n",
       "      <td>1</td>\n",
       "      <td>JUAN PÉREZ</td>\n",
       "      <td>28</td>\n",
       "      <td>juan@example.com</td>\n",
       "      <td>2025-02-20 19:33:08.790953</td>\n",
       "      <td>Young</td>\n",
       "    </tr>\n",
       "    <tr>\n",
       "      <th>1</th>\n",
       "      <td>2</td>\n",
       "      <td>MARÍA GARCÍA</td>\n",
       "      <td>34</td>\n",
       "      <td>maria@example.com</td>\n",
       "      <td>2025-02-20 19:33:08.790953</td>\n",
       "      <td>Middle-aged</td>\n",
       "    </tr>\n",
       "    <tr>\n",
       "      <th>2</th>\n",
       "      <td>3</td>\n",
       "      <td>CARLOS LÓPEZ</td>\n",
       "      <td>25</td>\n",
       "      <td>carlos@example.com</td>\n",
       "      <td>2025-02-20 19:33:08.790953</td>\n",
       "      <td>Young</td>\n",
       "    </tr>\n",
       "  </tbody>\n",
       "</table>\n",
       "</div>"
      ],
      "text/plain": [
       "   id        nombre  edad               email             fecha_registro  \\\n",
       "0   1    JUAN PÉREZ    28    juan@example.com 2025-02-20 19:33:08.790953   \n",
       "1   2  MARÍA GARCÍA    34   maria@example.com 2025-02-20 19:33:08.790953   \n",
       "2   3  CARLOS LÓPEZ    25  carlos@example.com 2025-02-20 19:33:08.790953   \n",
       "\n",
       "  age_category  \n",
       "0        Young  \n",
       "1  Middle-aged  \n",
       "2        Young  "
      ]
     },
     "execution_count": 19,
     "metadata": {},
     "output_type": "execute_result"
    }
   ],
   "source": [
    "df_transformed = df.copy()\n",
    "df_transformed[\"nombre\"] = df_transformed[\"nombre\"].str.upper()  # Uppercase names\n",
    "df_transformed[\"age_category\"] = df_transformed[\"edad\"].apply(\n",
    "    lambda x: \"Young\" if x < 30 else \"Middle-aged\" if x < 50 else \"Senior\"\n",
    ")\n",
    "\n",
    "# Display transformed DataFrame\n",
    "df_transformed.head()"
   ]
  },
  {
   "cell_type": "code",
   "execution_count": 20,
   "metadata": {},
   "outputs": [
    {
     "name": "stdout",
     "output_type": "stream",
     "text": [
      "Tabla 'transformed_data' creada exitosamente en PostgreSQL.\n"
     ]
    }
   ],
   "source": [
    "with engine.connect() as conn:\n",
    "    conn.execute(text(\"\"\"\n",
    "        CREATE TABLE IF NOT EXISTS transformed_data (\n",
    "            id SERIAL PRIMARY KEY,\n",
    "            nombre VARCHAR(100),\n",
    "            edad INT,\n",
    "            email VARCHAR(100),\n",
    "            fecha_registro TIMESTAMP DEFAULT CURRENT_TIMESTAMP,\n",
    "            age_category VARCHAR(20)\n",
    "        );\n",
    "    \"\"\"))\n",
    "    conn.commit()  # Asegúrate de confirmar los cambios\n",
    "    print(\"Tabla 'transformed_data' creada exitosamente en PostgreSQL.\")"
   ]
  },
  {
   "cell_type": "code",
   "execution_count": 21,
   "metadata": {},
   "outputs": [
    {
     "name": "stdout",
     "output_type": "stream",
     "text": [
      "Transformed data stored successfully in 'transformed_etl'.\n"
     ]
    }
   ],
   "source": [
    "with engine.connect() as conn:\n",
    "    df_transformed.to_sql(\"transformed_etl\", con=engine, if_exists=\"append\", index=False)\n",
    "\n",
    "print(\"Transformed data stored successfully in 'transformed_etl'.\")"
   ]
  },
  {
   "cell_type": "code",
   "execution_count": 22,
   "metadata": {},
   "outputs": [
    {
     "data": {
      "text/html": [
       "<div>\n",
       "<style scoped>\n",
       "    .dataframe tbody tr th:only-of-type {\n",
       "        vertical-align: middle;\n",
       "    }\n",
       "\n",
       "    .dataframe tbody tr th {\n",
       "        vertical-align: top;\n",
       "    }\n",
       "\n",
       "    .dataframe thead th {\n",
       "        text-align: right;\n",
       "    }\n",
       "</style>\n",
       "<table border=\"1\" class=\"dataframe\">\n",
       "  <thead>\n",
       "    <tr style=\"text-align: right;\">\n",
       "      <th></th>\n",
       "      <th>id</th>\n",
       "      <th>nombre</th>\n",
       "      <th>edad</th>\n",
       "      <th>email</th>\n",
       "      <th>fecha_registro</th>\n",
       "      <th>age_category</th>\n",
       "    </tr>\n",
       "  </thead>\n",
       "  <tbody>\n",
       "    <tr>\n",
       "      <th>0</th>\n",
       "      <td>1</td>\n",
       "      <td>JUAN PÉREZ</td>\n",
       "      <td>28</td>\n",
       "      <td>juan@example.com</td>\n",
       "      <td>2025-02-20 19:33:08.790953</td>\n",
       "      <td>Young</td>\n",
       "    </tr>\n",
       "    <tr>\n",
       "      <th>1</th>\n",
       "      <td>2</td>\n",
       "      <td>MARÍA GARCÍA</td>\n",
       "      <td>34</td>\n",
       "      <td>maria@example.com</td>\n",
       "      <td>2025-02-20 19:33:08.790953</td>\n",
       "      <td>Middle-aged</td>\n",
       "    </tr>\n",
       "    <tr>\n",
       "      <th>2</th>\n",
       "      <td>3</td>\n",
       "      <td>CARLOS LÓPEZ</td>\n",
       "      <td>25</td>\n",
       "      <td>carlos@example.com</td>\n",
       "      <td>2025-02-20 19:33:08.790953</td>\n",
       "      <td>Young</td>\n",
       "    </tr>\n",
       "  </tbody>\n",
       "</table>\n",
       "</div>"
      ],
      "text/plain": [
       "   id        nombre  edad               email             fecha_registro  \\\n",
       "0   1    JUAN PÉREZ    28    juan@example.com 2025-02-20 19:33:08.790953   \n",
       "1   2  MARÍA GARCÍA    34   maria@example.com 2025-02-20 19:33:08.790953   \n",
       "2   3  CARLOS LÓPEZ    25  carlos@example.com 2025-02-20 19:33:08.790953   \n",
       "\n",
       "  age_category  \n",
       "0        Young  \n",
       "1  Middle-aged  \n",
       "2        Young  "
      ]
     },
     "execution_count": 22,
     "metadata": {},
     "output_type": "execute_result"
    }
   ],
   "source": [
    "with engine.connect() as conn:\n",
    "    db_transformed_df = pd.read_sql(\"SELECT * FROM transformed_etl\", conn)\n",
    "    \n",
    "db_transformed_df"
   ]
  }
 ],
 "metadata": {
  "kernelspec": {
   "display_name": "venv",
   "language": "python",
   "name": "python3"
  },
  "language_info": {
   "codemirror_mode": {
    "name": "ipython",
    "version": 3
   },
   "file_extension": ".py",
   "mimetype": "text/x-python",
   "name": "python",
   "nbconvert_exporter": "python",
   "pygments_lexer": "ipython3",
   "version": "3.12.0"
  }
 },
 "nbformat": 4,
 "nbformat_minor": 2
}
