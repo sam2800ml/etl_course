{
 "cells": [
  {
   "cell_type": "code",
   "execution_count": 3,
   "metadata": {},
   "outputs": [],
   "source": [
    "import requests\n",
    "api_key = \"a05573f6d58fb32f9c5af492520e40e2\"\n",
    "url = f\"https://api.openweathermap.org/data/2.5/weather?lat=44.34&lon=10.99&appid=a05573f6d58fb32f9c5af492520e40e2\"\n",
    "df = requests.get(url)"
   ]
  },
  {
   "cell_type": "code",
   "execution_count": 5,
   "metadata": {},
   "outputs": [
    {
     "data": {
      "text/plain": [
       "b'{\"coord\":{\"lon\":10.99,\"lat\":44.34},\"weather\":[{\"id\":802,\"main\":\"Clouds\",\"description\":\"scattered clouds\",\"icon\":\"03n\"}],\"base\":\"stations\",\"main\":{\"temp\":272.96,\"feels_like\":272.96,\"temp_min\":272.71,\"temp_max\":272.96,\"pressure\":1022,\"humidity\":91,\"sea_level\":1022,\"grnd_level\":951},\"visibility\":10000,\"wind\":{\"speed\":1.32,\"deg\":249,\"gust\":0.73},\"clouds\":{\"all\":29},\"dt\":1739833293,\"sys\":{\"type\":2,\"id\":2004688,\"country\":\"IT\",\"sunrise\":1739859089,\"sunset\":1739897325},\"timezone\":3600,\"id\":3163858,\"name\":\"Zocca\",\"cod\":200}'"
      ]
     },
     "execution_count": 5,
     "metadata": {},
     "output_type": "execute_result"
    }
   ],
   "source": [
    "df.content\n",
    "\n"
   ]
  }
 ],
 "metadata": {
  "kernelspec": {
   "display_name": "venv",
   "language": "python",
   "name": "python3"
  },
  "language_info": {
   "codemirror_mode": {
    "name": "ipython",
    "version": 3
   },
   "file_extension": ".py",
   "mimetype": "text/x-python",
   "name": "python",
   "nbconvert_exporter": "python",
   "pygments_lexer": "ipython3",
   "version": "3.12.0"
  }
 },
 "nbformat": 4,
 "nbformat_minor": 2
}
